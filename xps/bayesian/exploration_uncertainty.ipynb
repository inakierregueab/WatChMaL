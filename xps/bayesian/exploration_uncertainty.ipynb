{
 "cells": [
  {
   "cell_type": "markdown",
   "id": "5a5b3bcc-9a83-4326-8d24-8888dc39efff",
   "metadata": {},
   "source": [
    "# Modeling uncertainty: MC dropout\n",
    "\n",
    "- Normal\n",
    "- With dropout in FC\n",
    "- With dropout in all\n",
    "- Normal + MC dropout in testing\n",
    "- winner of dropout + MC dropout in testing\n",
    "\n",
    "\n",
    "Implement drop out on everything(neuron-dropout in FC and channel-dropout in CNN), then add module for bayesian estimation."
   ]
  },
  {
   "cell_type": "code",
   "execution_count": null,
   "id": "9e8dfe71-f5c1-4f8e-8e99-8c5f4811ba71",
   "metadata": {},
   "outputs": [],
   "source": [
    "import numpy as np\n",
    "import pandas as pd\n",
    "import matplotlib.pyplot as plt\n",
    "from sklearn.metrics import *"
   ]
  },
  {
   "cell_type": "code",
   "execution_count": null,
   "id": "0b92241b-c6d6-4e6e-9c91-a69911be3a25",
   "metadata": {},
   "outputs": [],
   "source": [
    "base_path = './data/'\n",
    "\n",
    "labels = np.load(base_path+'/labels.npy')\n",
    "test_idxs = np.load(base_path+'/indices.npy')\n",
    "split_idxs = np.load(base_path+'/split_idxs.npz')\n",
    "\n",
    "modes = ['nd', 'dfc', 'dcnn', 'd', 'mcd']"
   ]
  },
  {
   "cell_type": "code",
   "execution_count": null,
   "id": "2fd381ab-913f-41b6-8b4b-7aca18565cfd",
   "metadata": {},
   "outputs": [],
   "source": []
  }
 ],
 "metadata": {
  "kernelspec": {
   "display_name": "Python 3",
   "language": "python",
   "name": "python3"
  },
  "language_info": {
   "codemirror_mode": {
    "name": "ipython",
    "version": 3
   },
   "file_extension": ".py",
   "mimetype": "text/x-python",
   "name": "python",
   "nbconvert_exporter": "python",
   "pygments_lexer": "ipython3",
   "version": "3.8.8"
  }
 },
 "nbformat": 4,
 "nbformat_minor": 5
}
