{
 "cells": [
  {
   "cell_type": "markdown",
   "id": "missing-hardware",
   "metadata": {},
   "source": [
    "# Dataset Index Generation\n",
    "Generates indices for train, validation and test sets"
   ]
  },
  {
   "cell_type": "code",
   "execution_count": 2,
   "id": "superb-conducting",
   "metadata": {
    "scrolled": true
   },
   "outputs": [],
   "source": [
    "import h5py\n",
    "import re\n",
    "import numpy as np"
   ]
  },
  {
   "cell_type": "markdown",
   "id": "heavy-poker",
   "metadata": {},
   "source": [
    "## Options"
   ]
  },
  {
   "cell_type": "code",
   "execution_count": 24,
   "id": "specific-richmond",
   "metadata": {},
   "outputs": [],
   "source": [
    "# define which files of events are included in test / validation / training split\n",
    "# the same split is done for each particle type\n",
    "test_files_start = 0\n",
    "test_files_stop = test_files_start+10 # first 400 files are for test set\n",
    "val_files_start = test_files_stop\n",
    "val_files_stop = val_files_start+10 # next 100 files are for validation set\n",
    "train_files_start = val_files_stop\n",
    "train_files_stop = None # all remaining files are for training set\n",
    "# train_files_stop = 500 # next 500 files are for training set\n",
    "\n",
    "# define which particle labels to include\n",
    "labels = (0, 1, 2, -1)"
   ]
  },
  {
   "cell_type": "markdown",
   "id": "studied-nursing",
   "metadata": {},
   "source": [
    "## Load dataset"
   ]
  },
  {
   "cell_type": "code",
   "execution_count": 25,
   "id": "convertible-wheat",
   "metadata": {},
   "outputs": [],
   "source": [
    "data_path = \"../data/IWCD_mPMT_Short_emgp0_E0to1000MeV_digihits_mini.h5\"\n",
    "f = h5py.File(data_path, \"r\")\n",
    "event_labels = np.array(f['labels'])\n",
    "root_files = np.array(f['root_files']).astype(str)"
   ]
  },
  {
   "cell_type": "markdown",
   "id": "right-salem",
   "metadata": {},
   "source": [
    "## Find the files of each label and indices of each file"
   ]
  },
  {
   "cell_type": "code",
   "execution_count": 26,
   "id": "narrow-courtesy",
   "metadata": {},
   "outputs": [],
   "source": [
    "def atoi(text):\n",
    "    return int(text) if text.isdigit() else text\n",
    "# Sort by only the basename of the file, with natural sorting of numbers in the filename\n",
    "def natural_keys(text):\n",
    "    return [ atoi(c) for c in re.split(r'(\\d+)', text.split('/')[-1]) ]"
   ]
  },
  {
   "cell_type": "code",
   "execution_count": 27,
   "id": "color-frequency",
   "metadata": {},
   "outputs": [],
   "source": [
    "files_in_labels = {l: sorted(set(root_files[event_labels==l]), key=natural_keys) for l in labels}\n",
    "idxs_in_files = {f: range(i, i+c) for f,i,c in zip(*np.unique(root_files, return_index=True, return_counts=True))}"
   ]
  },
  {
   "cell_type": "code",
   "execution_count": 28,
   "id": "educated-brazil",
   "metadata": {},
   "outputs": [
    {
     "name": "stdout",
     "output_type": "stream",
     "text": [
      "label 0 has 10 files and  30000 indices\n",
      "label 1 has 10 files and  30000 indices\n",
      "label 2 has 10 files and  30000 indices\n",
      "label -1 has 10 files and  30000 indices\n"
     ]
    }
   ],
   "source": [
    "for l, f in files_in_labels.items():\n",
    "    print(\"label\", l,\"has\", len(f),\"files and \", sum([len(idxs_in_files[i]) for i in f]), \"indices\")"
   ]
  },
  {
   "cell_type": "markdown",
   "id": "different-spine",
   "metadata": {},
   "source": [
    "## Create the splits"
   ]
  },
  {
   "cell_type": "code",
   "execution_count": 43,
   "id": "pursuant-desert",
   "metadata": {
    "scrolled": true
   },
   "outputs": [],
   "source": [
    "split_files = {\"test_idxs\":  [f for l in labels for f in files_in_labels[l][0:10]],\n",
    "               \"val_idxs\":   [f for l in labels for f in files_in_labels[l][10:20]],\n",
    "               \"train_idxs\": [f for l in labels for f in files_in_labels[l][20:]]}\n",
    "split_idxs = {k: [i for f in v for i in idxs_in_files[f]] for k, v in split_files.items()}"
   ]
  },
  {
   "cell_type": "code",
   "execution_count": 44,
   "id": "novel-settlement",
   "metadata": {},
   "outputs": [
    {
     "name": "stdout",
     "output_type": "stream",
     "text": [
      "test_idxs has 40 files and 120000 indices\n",
      "val_idxs has 0 files and 0 indices\n",
      "train_idxs has 0 files and 0 indices\n"
     ]
    }
   ],
   "source": [
    "for s in split_files.keys():\n",
    "    print(s,\"has\", len(split_files[s]),\"files and\", len(split_idxs[s]),\"indices\")"
   ]
  },
  {
   "cell_type": "code",
   "execution_count": 45,
   "id": "oriental-faith",
   "metadata": {},
   "outputs": [
    {
     "name": "stdout",
     "output_type": "stream",
     "text": [
      "120000\n",
      "120000\n",
      "120000\n"
     ]
    }
   ],
   "source": [
    "# Verify that all events are uniquely accounted for\n",
    "all_indices = np.concatenate(list(split_idxs.values()))\n",
    "print(len(event_labels))\n",
    "print(len(all_indices))\n",
    "print(len(set(all_indices)))"
   ]
  },
  {
   "cell_type": "markdown",
   "id": "natural-google",
   "metadata": {},
   "source": [
    "## Save file"
   ]
  },
  {
   "cell_type": "code",
   "execution_count": 34,
   "id": "statutory-force",
   "metadata": {},
   "outputs": [],
   "source": [
    "np.savez('IWCD_mPMT_Short_4_class_3M_emgp0_fixed_idxs.npz', **split_idxs)"
   ]
  },
  {
   "cell_type": "code",
   "execution_count": 35,
   "id": "3d36b960",
   "metadata": {},
   "outputs": [],
   "source": [
    "indices = np.load('IWCD_mPMT_Short_4_class_3M_emgp0_fixed_idxs.npz')"
   ]
  },
  {
   "cell_type": "code",
   "execution_count": 36,
   "id": "a7dc01b5",
   "metadata": {},
   "outputs": [
    {
     "data": {
      "text/plain": [
       "<numpy.lib.npyio.NpzFile at 0x7f9786379400>"
      ]
     },
     "execution_count": 36,
     "metadata": {},
     "output_type": "execute_result"
    }
   ],
   "source": [
    "indices"
   ]
  },
  {
   "cell_type": "code",
   "execution_count": 37,
   "id": "fcd79ae4",
   "metadata": {},
   "outputs": [
    {
     "data": {
      "text/plain": [
       "['test_idxs', 'val_idxs', 'train_idxs']"
      ]
     },
     "execution_count": 37,
     "metadata": {},
     "output_type": "execute_result"
    }
   ],
   "source": [
    "indices.files"
   ]
  },
  {
   "cell_type": "code",
   "execution_count": 40,
   "id": "ba9cc8c0",
   "metadata": {},
   "outputs": [
    {
     "data": {
      "text/plain": [
       "array([     0,      1,      2, ..., 119997, 119998, 119999])"
      ]
     },
     "execution_count": 40,
     "metadata": {},
     "output_type": "execute_result"
    }
   ],
   "source": [
    "indices['test_idxs']"
   ]
  },
  {
   "cell_type": "code",
   "execution_count": null,
   "id": "75fbe83e",
   "metadata": {},
   "outputs": [],
   "source": []
  }
 ],
 "metadata": {
  "kernelspec": {
   "display_name": "Python 3",
   "language": "python",
   "name": "python3"
  },
  "language_info": {
   "codemirror_mode": {
    "name": "ipython",
    "version": 3
   },
   "file_extension": ".py",
   "mimetype": "text/x-python",
   "name": "python",
   "nbconvert_exporter": "python",
   "pygments_lexer": "ipython3",
   "version": "3.8.8"
  }
 },
 "nbformat": 4,
 "nbformat_minor": 5
}
