{
 "cells": [
  {
   "cell_type": "markdown",
   "id": "e3a919a1-b83e-48c9-b8ea-931481da818b",
   "metadata": {},
   "source": [
    "# Bias Analysis\n",
    "### Iñaki Erregue Álvarez-Buhilla"
   ]
  },
  {
   "cell_type": "code",
   "execution_count": 7,
   "id": "681ab25b-724d-46cf-9bd7-e775596dc6f8",
   "metadata": {},
   "outputs": [],
   "source": [
    "import os\n",
    "import sys\n",
    "\n",
    "module_path = os.path.abspath(os.path.join('../..'))\n",
    "if module_path not in sys.path:\n",
    "    sys.path.append(module_path)"
   ]
  },
  {
   "cell_type": "code",
   "execution_count": 8,
   "id": "81872b77-2b86-4a1a-a8eb-fa0c972fd3d9",
   "metadata": {},
   "outputs": [],
   "source": [
    "import numpy as np\n",
    "import pandas as pd\n",
    "import matplotlib.pyplot as plt\n",
    "import scipy\n",
    "import h5py\n",
    "\n",
    "from watchmal.dataset.h5_dataset import H5Dataset"
   ]
  },
  {
   "cell_type": "markdown",
   "id": "17c10dae-e3be-4c40-a5a1-cc7d40a57a42",
   "metadata": {},
   "source": [
    "## Load all the data"
   ]
  },
  {
   "cell_type": "code",
   "execution_count": 16,
   "id": "417e666f-8057-4ebb-b89f-be8d370be658",
   "metadata": {},
   "outputs": [],
   "source": [
    "test_idxs = np.load('../time_as_channel/data/indices.npy')\n",
    "\n",
    "true_labels = np.load('../time_as_channel/data/labels.npy')\n",
    "\n",
    "predicted_labels = np.load('../time_as_channel/data/Q+Ts/predictions.npy')\n",
    "predicted_proba = np.load('../time_as_channel/data/Q+Ts/softmax.npy')"
   ]
  },
  {
   "cell_type": "code",
   "execution_count": null,
   "id": "23fe40f2-c691-44c2-9be5-d0ffa261f3ce",
   "metadata": {},
   "outputs": [],
   "source": [
    "# LOAD DATA + METADATA\n",
    "\n",
    "h5_path = '/data/neutrinos/IWCD_Data/IWCD_mPMT_Short_emgp0_E0to1000MeV_digihits.h5'\n",
    "dataset = H5Dataset(h5_path, is_distributed=False)\n",
    "raw_h5_file = h5py.File(h5_path, \"r\")\n",
    "\n",
    "data = {\n",
    "    'hit_charge': [],\n",
    "    'hit_time': [],\n",
    "    'hit_pmt': [],\n",
    "    'event_label': [],\n",
    "    'num_hits_per_event' = [],\n",
    "    'polar': [],\n",
    "    'azimuth': [],\n",
    "    'x': [],\n",
    "    'y': [],\n",
    "    'z': [],\n",
    "    'energies': []\n",
    "}\n",
    "\n",
    "for idx in test_idxs:\n",
    "    data['event_label'].append(dataset[idx]['labels'])\n",
    "    data['hit_charge'] += list(dataset.event_hit_charges)\n",
    "    data['hit_time'] += list(dataset.event_hit_times)\n",
    "    data['hit_pmt'] += list(dataset.event_hit_pmts)\n",
    "    data['num_hits_per_event'].append(len(dataset.event_hit_pmts))\n",
    "\n",
    "data['event_hits_index'] = dataset.event_hits_index[test_idxs]\n",
    "\n",
    "h5_relevant_keys = ['angles', 'energies', 'positions']\n",
    "for feature in h5_relevant_keys:\n",
    "    for idx in test_idxs:\n",
    "        if feature == 'angles':\n",
    "            data['polar'].append(raw_h5_file.get(feature)[idx,0])\n",
    "            data['azimuth'].append(raw_h5_file.get(feature)[idx,1])\n",
    "        elif feature == 'positions':\n",
    "            data['x'].append(raw_h5_file.get(feature)[idx,0,0])\n",
    "            data['y'].append(raw_h5_file.get(feature)[idx,0,1])\n",
    "            data['z'].append(raw_h5_file.get(feature)[idx,0,2])\n",
    "        else:\n",
    "            data[feature].append(raw_h5_file.get(feature)[idx,0])\n",
    "\n",
    "# Cast to ndarray\n",
    "for key in data.keys():\n",
    "    data[key] = np.array(data[key])\n",
    "    \n",
    "# Cast to pandas df\n",
    "dict_to_df = {}\n",
    "for key in data.keys():\n",
    "    if key not in ['hit_charge', 'hit_time', 'hit_pmt', 'event_hits_index']:\n",
    "        dict_to_df[key] = data[key]\n",
    "        \n",
    "events_df = pd.DataFrame(dict_to_df, columns=dict_to_df.keys())\n",
    "events_df['event_label'] = events_df['event_label'].map({0: 'gamma', 1: 'electron'})"
   ]
  },
  {
   "cell_type": "markdown",
   "id": "bfbe3462-147c-404b-bc59-e6069c219ce3",
   "metadata": {},
   "source": [
    "## Performance in different classes"
   ]
  },
  {
   "cell_type": "code",
   "execution_count": null,
   "id": "bb8f0ee5-07eb-4b0d-bd4a-e4473e174891",
   "metadata": {},
   "outputs": [],
   "source": []
  }
 ],
 "metadata": {
  "kernelspec": {
   "display_name": "Python 3",
   "language": "python",
   "name": "python3"
  },
  "language_info": {
   "codemirror_mode": {
    "name": "ipython",
    "version": 3
   },
   "file_extension": ".py",
   "mimetype": "text/x-python",
   "name": "python",
   "nbconvert_exporter": "python",
   "pygments_lexer": "ipython3",
   "version": "3.8.8"
  }
 },
 "nbformat": 4,
 "nbformat_minor": 5
}
