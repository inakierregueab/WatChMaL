{
 "cells": [
  {
   "cell_type": "markdown",
   "id": "5a5b3bcc-9a83-4326-8d24-8888dc39efff",
   "metadata": {},
   "source": [
    "# WatChMaL: MC Dropout Experiments\n",
    "### Iñaki Erregue Álvarez-Buhilla"
   ]
  },
  {
   "cell_type": "code",
   "execution_count": 22,
   "id": "5443254b-7752-49cf-893c-fd55560be721",
   "metadata": {},
   "outputs": [],
   "source": [
    "import os\n",
    "import sys\n",
    "module_path = os.path.abspath(os.path.join('..'))\n",
    "if module_path not in sys.path:\n",
    "    sys.path.append(module_path)"
   ]
  },
  {
   "cell_type": "code",
   "execution_count": 23,
   "id": "9e8dfe71-f5c1-4f8e-8e99-8c5f4811ba71",
   "metadata": {},
   "outputs": [],
   "source": [
    "import numpy as np\n",
    "import pandas as pd\n",
    "import matplotlib.pyplot as plt\n",
    "from dictances import bhattacharyya\n",
    "from sklearn.metrics import *\n",
    "from utils.utils import *"
   ]
  },
  {
   "cell_type": "code",
   "execution_count": 72,
   "id": "fef7bc00-f3fd-432b-b03b-ef369b166b74",
   "metadata": {},
   "outputs": [],
   "source": [
    "base_path = './data/'\n",
    "\n",
    "labels = np.load(base_path+'/labels.npy')\n",
    "test_idxs = np.load(base_path+'/indices.npy')\n",
    "split_idxs = np.load(base_path+'/IWCD_mPMT_Short_2_class_idxs_xps.npz')"
   ]
  },
  {
   "cell_type": "markdown",
   "id": "40a03f10-00dd-4854-ab84-f37d3aea2e7e",
   "metadata": {},
   "source": [
    "# 1 - Dropout in Training \n",
    "\n",
    "Normal, FC, All, for different dropout rates"
   ]
  },
  {
   "cell_type": "code",
   "execution_count": 73,
   "id": "0b92241b-c6d6-4e6e-9c91-a69911be3a25",
   "metadata": {},
   "outputs": [],
   "source": [
    "#modes = ['nd', 'dfc', 'dcnn', 'd', 'mcd']\n",
    "modes = ['101', '101mc01', '101mc02', '101mcfc02', 'uncertainties']"
   ]
  },
  {
   "cell_type": "code",
   "execution_count": 74,
   "id": "d40b81ba-a831-4acc-87e9-4ccb494c4c4f",
   "metadata": {},
   "outputs": [
    {
     "name": "stdout",
     "output_type": "stream",
     "text": [
      "Total num. of events:  2950284\n",
      "Events for testing: 10.004\n",
      "Events for validation: 2.399\n",
      "Events for training: 87.596\n"
     ]
    }
   ],
   "source": [
    "data_splitting(split_idxs)"
   ]
  },
  {
   "cell_type": "code",
   "execution_count": 75,
   "id": "782d7952-18d4-44b9-8d6d-cf70166e7081",
   "metadata": {},
   "outputs": [],
   "source": [
    "results = []\n",
    "for mode in modes:\n",
    "    results.append(basic_metrics(base_path, labels, mode))"
   ]
  },
  {
   "cell_type": "code",
   "execution_count": 76,
   "id": "df500cbd-f43d-4f08-9eb5-1c65d790dea9",
   "metadata": {},
   "outputs": [
    {
     "data": {
      "text/html": [
       "<div>\n",
       "<style scoped>\n",
       "    .dataframe tbody tr th:only-of-type {\n",
       "        vertical-align: middle;\n",
       "    }\n",
       "\n",
       "    .dataframe tbody tr th {\n",
       "        vertical-align: top;\n",
       "    }\n",
       "\n",
       "    .dataframe thead th {\n",
       "        text-align: right;\n",
       "    }\n",
       "</style>\n",
       "<table border=\"1\" class=\"dataframe\">\n",
       "  <thead>\n",
       "    <tr style=\"text-align: right;\">\n",
       "      <th></th>\n",
       "      <th>model</th>\n",
       "      <th>charge</th>\n",
       "      <th>time</th>\n",
       "      <th>scaled</th>\n",
       "      <th>collapsed</th>\n",
       "      <th>log_loss</th>\n",
       "      <th>acc</th>\n",
       "      <th>f1</th>\n",
       "      <th>auc</th>\n",
       "      <th>opt_threshold</th>\n",
       "      <th>total_score</th>\n",
       "    </tr>\n",
       "  </thead>\n",
       "  <tbody>\n",
       "    <tr>\n",
       "      <th>0</th>\n",
       "      <td>uncertainties</td>\n",
       "      <td>0</td>\n",
       "      <td>0</td>\n",
       "      <td>0</td>\n",
       "      <td>1</td>\n",
       "      <td>0.5946</td>\n",
       "      <td>0.6748</td>\n",
       "      <td>0.6589</td>\n",
       "      <td>0.7433</td>\n",
       "      <td>0.4885</td>\n",
       "      <td>1.4824</td>\n",
       "    </tr>\n",
       "    <tr>\n",
       "      <th>1</th>\n",
       "      <td>101</td>\n",
       "      <td>0</td>\n",
       "      <td>0</td>\n",
       "      <td>1</td>\n",
       "      <td>0</td>\n",
       "      <td>0.6104</td>\n",
       "      <td>0.6646</td>\n",
       "      <td>0.6543</td>\n",
       "      <td>0.7252</td>\n",
       "      <td>0.5090</td>\n",
       "      <td>1.4337</td>\n",
       "    </tr>\n",
       "    <tr>\n",
       "      <th>2</th>\n",
       "      <td>101mcfc02</td>\n",
       "      <td>0</td>\n",
       "      <td>0</td>\n",
       "      <td>1</td>\n",
       "      <td>0</td>\n",
       "      <td>0.6129</td>\n",
       "      <td>0.6643</td>\n",
       "      <td>0.6568</td>\n",
       "      <td>0.7231</td>\n",
       "      <td>0.5096</td>\n",
       "      <td>1.4314</td>\n",
       "    </tr>\n",
       "    <tr>\n",
       "      <th>3</th>\n",
       "      <td>101mc01</td>\n",
       "      <td>0</td>\n",
       "      <td>0</td>\n",
       "      <td>1</td>\n",
       "      <td>0</td>\n",
       "      <td>0.7069</td>\n",
       "      <td>0.5177</td>\n",
       "      <td>0.5800</td>\n",
       "      <td>0.5267</td>\n",
       "      <td>0.5259</td>\n",
       "      <td>0.9176</td>\n",
       "    </tr>\n",
       "    <tr>\n",
       "      <th>4</th>\n",
       "      <td>101mc02</td>\n",
       "      <td>0</td>\n",
       "      <td>0</td>\n",
       "      <td>1</td>\n",
       "      <td>0</td>\n",
       "      <td>0.7588</td>\n",
       "      <td>0.4984</td>\n",
       "      <td>0.6417</td>\n",
       "      <td>0.4936</td>\n",
       "      <td>0.4363</td>\n",
       "      <td>0.8750</td>\n",
       "    </tr>\n",
       "  </tbody>\n",
       "</table>\n",
       "</div>"
      ],
      "text/plain": [
       "           model  charge  time  scaled  collapsed  log_loss     acc      f1  \\\n",
       "0  uncertainties       0     0       0          1    0.5946  0.6748  0.6589   \n",
       "1            101       0     0       1          0    0.6104  0.6646  0.6543   \n",
       "2      101mcfc02       0     0       1          0    0.6129  0.6643  0.6568   \n",
       "3        101mc01       0     0       1          0    0.7069  0.5177  0.5800   \n",
       "4        101mc02       0     0       1          0    0.7588  0.4984  0.6417   \n",
       "\n",
       "      auc  opt_threshold  total_score  \n",
       "0  0.7433         0.4885       1.4824  \n",
       "1  0.7252         0.5090       1.4337  \n",
       "2  0.7231         0.5096       1.4314  \n",
       "3  0.5267         0.5259       0.9176  \n",
       "4  0.4936         0.4363       0.8750  "
      ]
     },
     "execution_count": 76,
     "metadata": {},
     "output_type": "execute_result"
    }
   ],
   "source": [
    "pd.set_option(\"display.precision\", 4)\n",
    "df = pd.DataFrame(results)\n",
    "\n",
    "df['charge'] = np.where(df['model'].str.contains('Q'), 1, 0)\n",
    "df['time'] = np.where(df['model'].str.contains('T'), 1, 0)\n",
    "df['scaled'] = np.where(df['model'].str.contains('u'), 0, 1)\n",
    "df['collapsed'] = np.where(df['model'].str.contains('s'), 1, 0)\n",
    "\n",
    "df['total_score'] = df.acc+df.f1+df.auc-df.log_loss\n",
    "\n",
    "df.sort_values(by='total_score', inplace=True, ascending=False)\n",
    "df = df[['model','charge', 'time', 'scaled', 'collapsed', 'log_loss', 'acc', 'f1', 'auc', 'opt_threshold', 'total_score']].reset_index(drop=True)\n",
    "\n",
    "df.head(len(modes))"
   ]
  },
  {
   "cell_type": "markdown",
   "id": "57e7585f-01a0-421f-9f20-66ba97a9925f",
   "metadata": {},
   "source": [
    "# 2 - MC Dropout\n",
    "\n",
    "With previous winner, implement different dropout rates and forward passes"
   ]
  },
  {
   "cell_type": "code",
   "execution_count": 77,
   "id": "d24fb956-616f-46f3-aaf6-7d8260f83dfc",
   "metadata": {},
   "outputs": [],
   "source": [
    "predictions = np.load('./data/uncertainties/predictions.npy')"
   ]
  },
  {
   "cell_type": "code",
   "execution_count": 78,
   "id": "0df83835-7893-406f-9275-fec9cc8ff8c9",
   "metadata": {},
   "outputs": [
    {
     "data": {
      "text/plain": [
       "array([0, 0, 0, ..., 0, 1, 1])"
      ]
     },
     "execution_count": 78,
     "metadata": {},
     "output_type": "execute_result"
    }
   ],
   "source": [
    "predictions"
   ]
  },
  {
   "cell_type": "code",
   "execution_count": 79,
   "id": "3bd82d6c-3037-4f33-8a34-696b0a9659b4",
   "metadata": {},
   "outputs": [],
   "source": [
    "#[total_variance, entropy, mutual_info, margin_confidence, variation_ratio]\n",
    "uncertainties = np.load('./data/uncertainties/uncertainties.npy')\n",
    "\n",
    "predictions = np.expand_dims(np.load('./data/uncertainties/predictions.npy'), axis=1)\n",
    "probs = np.expand_dims(np.load('./data/uncertainties/softmax.npy')[:,1], axis=1)\n",
    "\n",
    "uncertainties = np.concatenate((uncertainties,probs,predictions,np.expand_dims(labels, axis=1)),axis=1)"
   ]
  },
  {
   "cell_type": "code",
   "execution_count": 80,
   "id": "44f6bef8-6cf4-4d7f-9ebc-63f364b44d63",
   "metadata": {},
   "outputs": [],
   "source": [
    "uncertainties_df = pd.DataFrame(\n",
    "    uncertainties, columns=['total_variance', 'entropy', 'mutual_info', 'margin_confidence', 'variation_ratio', 'probs', 'pred', 'gt'])"
   ]
  },
  {
   "cell_type": "code",
   "execution_count": 89,
   "id": "81c39408-5970-4348-a49c-2b0acce66a44",
   "metadata": {},
   "outputs": [],
   "source": [
    "uncertainties_df['pred'] = uncertainties_df['pred'].astype(int)\n",
    "uncertainties_df['gt'] = uncertainties_df['gt'].astype(int)\n",
    "\n",
    "# normalize entropy\n",
    "uncertainties_df['entropy'] = uncertainties_df['entropy']/np.log(2)\n",
    "\n",
    "uncertainties_df['correct_pred'] = np.where(uncertainties_df['pred'] == uncertainties_df['gt'], 1, 0)"
   ]
  },
  {
   "cell_type": "code",
   "execution_count": 90,
   "id": "914c81bc-f259-4a56-8b9b-14d5be198b40",
   "metadata": {},
   "outputs": [
    {
     "data": {
      "text/html": [
       "<div>\n",
       "<style scoped>\n",
       "    .dataframe tbody tr th:only-of-type {\n",
       "        vertical-align: middle;\n",
       "    }\n",
       "\n",
       "    .dataframe tbody tr th {\n",
       "        vertical-align: top;\n",
       "    }\n",
       "\n",
       "    .dataframe thead th {\n",
       "        text-align: right;\n",
       "    }\n",
       "</style>\n",
       "<table border=\"1\" class=\"dataframe\">\n",
       "  <thead>\n",
       "    <tr style=\"text-align: right;\">\n",
       "      <th></th>\n",
       "      <th>total_variance</th>\n",
       "      <th>entropy</th>\n",
       "      <th>mutual_info</th>\n",
       "      <th>margin_confidence</th>\n",
       "      <th>variation_ratio</th>\n",
       "      <th>probs</th>\n",
       "      <th>pred</th>\n",
       "      <th>gt</th>\n",
       "      <th>correct_pred</th>\n",
       "    </tr>\n",
       "  </thead>\n",
       "  <tbody>\n",
       "    <tr>\n",
       "      <th>0</th>\n",
       "      <td>0.0899</td>\n",
       "      <td>0.8819</td>\n",
       "      <td>0.0181</td>\n",
       "      <td>0.4051</td>\n",
       "      <td>0.0392</td>\n",
       "      <td>0.3005</td>\n",
       "      <td>0</td>\n",
       "      <td>0</td>\n",
       "      <td>1</td>\n",
       "    </tr>\n",
       "    <tr>\n",
       "      <th>1</th>\n",
       "      <td>0.1255</td>\n",
       "      <td>0.6920</td>\n",
       "      <td>0.0471</td>\n",
       "      <td>0.6329</td>\n",
       "      <td>0.0196</td>\n",
       "      <td>0.1855</td>\n",
       "      <td>0</td>\n",
       "      <td>0</td>\n",
       "      <td>1</td>\n",
       "    </tr>\n",
       "    <tr>\n",
       "      <th>2</th>\n",
       "      <td>0.0922</td>\n",
       "      <td>0.5684</td>\n",
       "      <td>0.0323</td>\n",
       "      <td>0.7319</td>\n",
       "      <td>0.0000</td>\n",
       "      <td>0.1340</td>\n",
       "      <td>0</td>\n",
       "      <td>0</td>\n",
       "      <td>1</td>\n",
       "    </tr>\n",
       "    <tr>\n",
       "      <th>3</th>\n",
       "      <td>0.0308</td>\n",
       "      <td>0.9447</td>\n",
       "      <td>0.0020</td>\n",
       "      <td>0.2752</td>\n",
       "      <td>0.0000</td>\n",
       "      <td>0.6376</td>\n",
       "      <td>1</td>\n",
       "      <td>0</td>\n",
       "      <td>0</td>\n",
       "    </tr>\n",
       "    <tr>\n",
       "      <th>4</th>\n",
       "      <td>0.0735</td>\n",
       "      <td>0.8946</td>\n",
       "      <td>0.0122</td>\n",
       "      <td>0.3776</td>\n",
       "      <td>0.0000</td>\n",
       "      <td>0.3112</td>\n",
       "      <td>0</td>\n",
       "      <td>0</td>\n",
       "      <td>1</td>\n",
       "    </tr>\n",
       "    <tr>\n",
       "      <th>...</th>\n",
       "      <td>...</td>\n",
       "      <td>...</td>\n",
       "      <td>...</td>\n",
       "      <td>...</td>\n",
       "      <td>...</td>\n",
       "      <td>...</td>\n",
       "      <td>...</td>\n",
       "      <td>...</td>\n",
       "      <td>...</td>\n",
       "    </tr>\n",
       "    <tr>\n",
       "      <th>295151</th>\n",
       "      <td>0.0297</td>\n",
       "      <td>0.9482</td>\n",
       "      <td>0.0018</td>\n",
       "      <td>0.2665</td>\n",
       "      <td>0.0000</td>\n",
       "      <td>0.6332</td>\n",
       "      <td>1</td>\n",
       "      <td>1</td>\n",
       "      <td>1</td>\n",
       "    </tr>\n",
       "    <tr>\n",
       "      <th>295152</th>\n",
       "      <td>0.0150</td>\n",
       "      <td>0.9952</td>\n",
       "      <td>0.0004</td>\n",
       "      <td>0.0817</td>\n",
       "      <td>0.0000</td>\n",
       "      <td>0.5409</td>\n",
       "      <td>1</td>\n",
       "      <td>1</td>\n",
       "      <td>1</td>\n",
       "    </tr>\n",
       "    <tr>\n",
       "      <th>295153</th>\n",
       "      <td>0.0407</td>\n",
       "      <td>0.9802</td>\n",
       "      <td>0.0033</td>\n",
       "      <td>0.1676</td>\n",
       "      <td>0.0196</td>\n",
       "      <td>0.4174</td>\n",
       "      <td>0</td>\n",
       "      <td>1</td>\n",
       "      <td>0</td>\n",
       "    </tr>\n",
       "    <tr>\n",
       "      <th>295154</th>\n",
       "      <td>0.0251</td>\n",
       "      <td>0.9548</td>\n",
       "      <td>0.0013</td>\n",
       "      <td>0.2489</td>\n",
       "      <td>0.0000</td>\n",
       "      <td>0.6245</td>\n",
       "      <td>1</td>\n",
       "      <td>1</td>\n",
       "      <td>1</td>\n",
       "    </tr>\n",
       "    <tr>\n",
       "      <th>295155</th>\n",
       "      <td>0.0628</td>\n",
       "      <td>0.6387</td>\n",
       "      <td>0.0136</td>\n",
       "      <td>0.6763</td>\n",
       "      <td>0.0000</td>\n",
       "      <td>0.8381</td>\n",
       "      <td>1</td>\n",
       "      <td>1</td>\n",
       "      <td>1</td>\n",
       "    </tr>\n",
       "  </tbody>\n",
       "</table>\n",
       "<p>295156 rows × 9 columns</p>\n",
       "</div>"
      ],
      "text/plain": [
       "        total_variance  entropy  mutual_info  margin_confidence  \\\n",
       "0               0.0899   0.8819       0.0181             0.4051   \n",
       "1               0.1255   0.6920       0.0471             0.6329   \n",
       "2               0.0922   0.5684       0.0323             0.7319   \n",
       "3               0.0308   0.9447       0.0020             0.2752   \n",
       "4               0.0735   0.8946       0.0122             0.3776   \n",
       "...                ...      ...          ...                ...   \n",
       "295151          0.0297   0.9482       0.0018             0.2665   \n",
       "295152          0.0150   0.9952       0.0004             0.0817   \n",
       "295153          0.0407   0.9802       0.0033             0.1676   \n",
       "295154          0.0251   0.9548       0.0013             0.2489   \n",
       "295155          0.0628   0.6387       0.0136             0.6763   \n",
       "\n",
       "        variation_ratio   probs  pred  gt  correct_pred  \n",
       "0                0.0392  0.3005     0   0             1  \n",
       "1                0.0196  0.1855     0   0             1  \n",
       "2                0.0000  0.1340     0   0             1  \n",
       "3                0.0000  0.6376     1   0             0  \n",
       "4                0.0000  0.3112     0   0             1  \n",
       "...                 ...     ...   ...  ..           ...  \n",
       "295151           0.0000  0.6332     1   1             1  \n",
       "295152           0.0000  0.5409     1   1             1  \n",
       "295153           0.0196  0.4174     0   1             0  \n",
       "295154           0.0000  0.6245     1   1             1  \n",
       "295155           0.0000  0.8381     1   1             1  \n",
       "\n",
       "[295156 rows x 9 columns]"
      ]
     },
     "execution_count": 90,
     "metadata": {},
     "output_type": "execute_result"
    }
   ],
   "source": [
    "uncertainties_df"
   ]
  },
  {
   "cell_type": "code",
   "execution_count": 91,
   "id": "92dcc995-19b0-4100-9eeb-59ec905c4582",
   "metadata": {},
   "outputs": [],
   "source": [
    "def bhattacharyya_d(a: dict, b: dict) -> float:\n",
    "    \"\"\"Determine the Bhattacharyya distance beetween the given dictionaries.\n",
    "    Parameters\n",
    "    ----------------------------\n",
    "    a: dict,\n",
    "        First dictionary to consider.\n",
    "    b: dict,\n",
    "        Second dictionary to consider.\n",
    "    Returns\n",
    "    ----------------------------\n",
    "    Return the Bhattacharyya distance beetween the given dictionaries.\n",
    "    \"\"\"\n",
    "    if len(a) > len(b):\n",
    "        big = a\n",
    "        small = b\n",
    "    else:\n",
    "        big = b\n",
    "        small= a\n",
    "    \n",
    "    total = 0\n",
    "    for k in small.keys():\n",
    "        total += np.sqrt(big[k] * small[k])\n",
    "    \n",
    "    distance = -np.log(total)\n",
    "    if np.isinf(distance):\n",
    "        return 0\n",
    "    \n",
    "    return distance"
   ]
  },
  {
   "cell_type": "code",
   "execution_count": 96,
   "id": "ca7b7a89-c234-40df-b076-ecb6d3c6be2a",
   "metadata": {},
   "outputs": [
    {
     "name": "stdout",
     "output_type": "stream",
     "text": [
      "Bhattacharyya distance: 0.3615\n"
     ]
    },
    {
     "data": {
      "image/png": "[encoded data removed]",
      "text/plain": [
       "<Figure size 432x288 with 1 Axes>"
      ]
     },
     "metadata": {
      "needs_background": "light"
     },
     "output_type": "display_data"
    },
    {
     "name": "stdout",
     "output_type": "stream",
     "text": [
      "Bhattacharyya distance: 0.3485\n"
     ]
    },
    {
     "data": {
      "image/png": "[encoded data removed]",
      "text/plain": [
       "<Figure size 432x288 with 1 Axes>"
      ]
     },
     "metadata": {
      "needs_background": "light"
     },
     "output_type": "display_data"
    },
    {
     "name": "stdout",
     "output_type": "stream",
     "text": [
      "Bhattacharyya distance: 0.2700\n"
     ]
    },
    {
     "data": {
      "image/png": "[encoded data removed]",
      "text/plain": [
       "<Figure size 432x288 with 1 Axes>"
      ]
     },
     "metadata": {
      "needs_background": "light"
     },
     "output_type": "display_data"
    },
    {
     "name": "stdout",
     "output_type": "stream",
     "text": [
      "Bhattacharyya distance: 0.3617\n"
     ]
    },
    {
     "data": {
      "image/png": "[encoded data removed]",
      "text/plain": [
       "<Figure size 432x288 with 1 Axes>"
      ]
     },
     "metadata": {
      "needs_background": "light"
     },
     "output_type": "display_data"
    },
    {
     "name": "stdout",
     "output_type": "stream",
     "text": [
      "Bhattacharyya distance: 0.0135\n"
     ]
    },
    {
     "data": {
      "image/png": "[encoded data removed]",
      "text/plain": [
       "<Figure size 432x288 with 1 Axes>"
      ]
     },
     "metadata": {
      "needs_background": "light"
     },
     "output_type": "display_data"
    }
   ],
   "source": [
    "\n",
    "unc_measures = ['total_variance', 'entropy', 'mutual_info', 'margin_confidence', 'variation_ratio']\n",
    "for measure in unc_measures:\n",
    "    \n",
    "    correct = uncertainties_df[uncertainties_df['correct_pred'] == 1][measure]\n",
    "    incorrect = uncertainties_df[uncertainties_df['correct_pred'] == 0][measure]\n",
    "    \n",
    "    correct_pmf = correct.value_counts(normalize=True)\n",
    "    incorrect_pmf = incorrect.value_counts(normalize=True)\n",
    "    \n",
    "    print('Bhattacharyya distance: %1.4f' % bhattacharyya_d(correct_pmf.reset_index(drop=True).to_dict(),incorrect_pmf.reset_index(drop=True).to_dict()))\n",
    "\n",
    "    plt.hist(incorrect.values, bins=40, alpha=0.4, label='incorrect', color='r', density=1)\n",
    "    plt.hist(correct.values, bins=40, alpha=0.5, label='correct', color='g', density=1)\n",
    "    \n",
    "    plt.legend(loc='upper right')\n",
    "    plt.title(measure)\n",
    "    #plt.xlim(0,1)\n",
    "    #plt.ylim(0,1)\n",
    "    plt.tight_layout(pad=0.4, w_pad=0.5, h_pad=1.0)\n",
    "    plt.show()"
   ]
  },
  {
   "cell_type": "code",
   "execution_count": null,
   "id": "95cf6f48-af81-4c84-ac8c-c50258615031",
   "metadata": {},
   "outputs": [],
   "source": []
  }
 ],
 "metadata": {
  "kernelspec": {
   "display_name": "Python 3",
   "language": "python",
   "name": "python3"
  },
  "language_info": {
   "codemirror_mode": {
    "name": "ipython",
    "version": 3
   },
   "file_extension": ".py",
   "mimetype": "text/x-python",
   "name": "python",
   "nbconvert_exporter": "python",
   "pygments_lexer": "ipython3",
   "version": "3.8.8"
  }
 },
 "nbformat": 4,
 "nbformat_minor": 5
}
