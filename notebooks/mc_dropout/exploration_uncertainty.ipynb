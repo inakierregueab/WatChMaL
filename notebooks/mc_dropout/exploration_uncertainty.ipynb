{
 "cells": [
  {
   "cell_type": "markdown",
   "id": "5a5b3bcc-9a83-4326-8d24-8888dc39efff",
   "metadata": {},
   "source": [
    "# WatChMaL: MC Dropout Experiments\n",
    "### Iñaki Erregue Álvarez-Buhilla"
   ]
  },
  {
   "cell_type": "code",
   "execution_count": 28,
   "id": "5443254b-7752-49cf-893c-fd55560be721",
   "metadata": {},
   "outputs": [],
   "source": [
    "import os\n",
    "import sys\n",
    "module_path = os.path.abspath(os.path.join('..'))\n",
    "if module_path not in sys.path:\n",
    "    sys.path.append(module_path)"
   ]
  },
  {
   "cell_type": "code",
   "execution_count": 29,
   "id": "9e8dfe71-f5c1-4f8e-8e99-8c5f4811ba71",
   "metadata": {},
   "outputs": [],
   "source": [
    "import numpy as np\n",
    "import pandas as pd\n",
    "import seaborn as sns\n",
    "import re\n",
    "import matplotlib.pyplot as plt\n",
    "from dictances import bhattacharyya\n",
    "from sklearn.metrics import *\n",
    "from utils.utils import *"
   ]
  },
  {
   "cell_type": "markdown",
   "id": "40a03f10-00dd-4854-ab84-f37d3aea2e7e",
   "metadata": {},
   "source": [
    "# 1 - Dropout in Training \n",
    "\n",
    "Normal, FC, All, for different dropout rates"
   ]
  },
  {
   "cell_type": "code",
   "execution_count": 30,
   "id": "df3ceff1-2c64-4e59-a693-26954aa08ecd",
   "metadata": {},
   "outputs": [],
   "source": [
    "base_path = './data/dropout/'\n",
    "\n",
    "labels = np.load(base_path+'/labels.npy')\n",
    "test_idxs = np.load(base_path+'/indices.npy')\n",
    "split_idxs = np.load(base_path+'/IWCD_mPMT_Short_2_class_idxs_xps.npz')\n",
    "\n",
    "subfolders = [os.path.basename(os.path.normpath(f.path)) for f in os.scandir(base_path) if f.is_dir()]"
   ]
  },
  {
   "cell_type": "code",
   "execution_count": 31,
   "id": "c6417213-3a72-4975-8cd5-f149fe13f78b",
   "metadata": {},
   "outputs": [
    {
     "data": {
      "text/plain": [
       "26"
      ]
     },
     "execution_count": 31,
     "metadata": {},
     "output_type": "execute_result"
    }
   ],
   "source": [
    "len(subfolders)"
   ]
  },
  {
   "cell_type": "code",
   "execution_count": 32,
   "id": "527c819e-94a0-4be0-a4bd-251b8e034eda",
   "metadata": {},
   "outputs": [
    {
     "name": "stdout",
     "output_type": "stream",
     "text": [
      "Total num. of events:  2950284\n",
      "Events for testing: 10.004\n",
      "Events for validation: 2.399\n",
      "Events for training: 87.596\n"
     ]
    }
   ],
   "source": [
    "data_splitting(split_idxs)"
   ]
  },
  {
   "cell_type": "code",
   "execution_count": 33,
   "id": "aa9d57d2-9438-45d2-9d3c-8a3a77e6e029",
   "metadata": {},
   "outputs": [],
   "source": [
    "results = []\n",
    "for mode in subfolders:\n",
    "    results.append(basic_metrics(base_path, labels,mode))"
   ]
  },
  {
   "cell_type": "code",
   "execution_count": 34,
   "id": "d5d803f2-cc7d-4b9b-a115-203cfa916974",
   "metadata": {},
   "outputs": [],
   "source": [
    "def get_dropout_rates(folder):\n",
    "    infile = base_path + folder +'/main.log'\n",
    "\n",
    "    important = []\n",
    "    keep_phrases = [\"fc_dropout\", \"bb_dropout\", \"lr\"]\n",
    "\n",
    "    with open(infile) as f:\n",
    "        f = f.readlines()\n",
    "\n",
    "    for line in f:\n",
    "        for phrase in keep_phrases:\n",
    "            if phrase in line:\n",
    "                important.append(float(re.findall('\\d+\\.?\\d*', line)[0]))\n",
    "                break\n",
    "\n",
    "    # first is fc then bb\n",
    "    return important"
   ]
  },
  {
   "cell_type": "code",
   "execution_count": 35,
   "id": "1f08ebbd-2625-4596-94b0-80944044ad4e",
   "metadata": {},
   "outputs": [
    {
     "data": {
      "text/html": [
       "<div>\n",
       "<style scoped>\n",
       "    .dataframe tbody tr th:only-of-type {\n",
       "        vertical-align: middle;\n",
       "    }\n",
       "\n",
       "    .dataframe tbody tr th {\n",
       "        vertical-align: top;\n",
       "    }\n",
       "\n",
       "    .dataframe thead th {\n",
       "        text-align: right;\n",
       "    }\n",
       "</style>\n",
       "<table border=\"1\" class=\"dataframe\">\n",
       "  <thead>\n",
       "    <tr style=\"text-align: right;\">\n",
       "      <th></th>\n",
       "      <th>fc_dropout</th>\n",
       "      <th>bb_dropout</th>\n",
       "      <th>learning_rate</th>\n",
       "      <th>log_loss</th>\n",
       "      <th>acc</th>\n",
       "      <th>f1</th>\n",
       "      <th>auc</th>\n",
       "      <th>total_score</th>\n",
       "    </tr>\n",
       "  </thead>\n",
       "  <tbody>\n",
       "    <tr>\n",
       "      <th>0</th>\n",
       "      <td>0.1</td>\n",
       "      <td>0.00</td>\n",
       "      <td>0.0001</td>\n",
       "      <td>0.6062</td>\n",
       "      <td>0.6678</td>\n",
       "      <td>0.6701</td>\n",
       "      <td>0.7312</td>\n",
       "      <td>1.4628</td>\n",
       "    </tr>\n",
       "    <tr>\n",
       "      <th>1</th>\n",
       "      <td>0.0</td>\n",
       "      <td>0.00</td>\n",
       "      <td>0.0001</td>\n",
       "      <td>0.6025</td>\n",
       "      <td>0.6723</td>\n",
       "      <td>0.6438</td>\n",
       "      <td>0.7370</td>\n",
       "      <td>1.4506</td>\n",
       "    </tr>\n",
       "    <tr>\n",
       "      <th>2</th>\n",
       "      <td>0.2</td>\n",
       "      <td>0.00</td>\n",
       "      <td>0.0001</td>\n",
       "      <td>0.6064</td>\n",
       "      <td>0.6689</td>\n",
       "      <td>0.6476</td>\n",
       "      <td>0.7318</td>\n",
       "      <td>1.4419</td>\n",
       "    </tr>\n",
       "    <tr>\n",
       "      <th>3</th>\n",
       "      <td>0.3</td>\n",
       "      <td>0.00</td>\n",
       "      <td>0.0001</td>\n",
       "      <td>0.6071</td>\n",
       "      <td>0.6681</td>\n",
       "      <td>0.6380</td>\n",
       "      <td>0.7321</td>\n",
       "      <td>1.4311</td>\n",
       "    </tr>\n",
       "    <tr>\n",
       "      <th>4</th>\n",
       "      <td>0.0</td>\n",
       "      <td>0.05</td>\n",
       "      <td>0.0001</td>\n",
       "      <td>0.6131</td>\n",
       "      <td>0.6609</td>\n",
       "      <td>0.6607</td>\n",
       "      <td>0.7219</td>\n",
       "      <td>1.4304</td>\n",
       "    </tr>\n",
       "    <tr>\n",
       "      <th>5</th>\n",
       "      <td>0.0</td>\n",
       "      <td>0.10</td>\n",
       "      <td>0.0001</td>\n",
       "      <td>0.6157</td>\n",
       "      <td>0.6587</td>\n",
       "      <td>0.6615</td>\n",
       "      <td>0.7191</td>\n",
       "      <td>1.4236</td>\n",
       "    </tr>\n",
       "    <tr>\n",
       "      <th>6</th>\n",
       "      <td>0.1</td>\n",
       "      <td>0.05</td>\n",
       "      <td>0.0001</td>\n",
       "      <td>0.6149</td>\n",
       "      <td>0.6607</td>\n",
       "      <td>0.6468</td>\n",
       "      <td>0.7200</td>\n",
       "      <td>1.4126</td>\n",
       "    </tr>\n",
       "    <tr>\n",
       "      <th>7</th>\n",
       "      <td>0.0</td>\n",
       "      <td>0.00</td>\n",
       "      <td>5.0000</td>\n",
       "      <td>0.6144</td>\n",
       "      <td>0.6603</td>\n",
       "      <td>0.6442</td>\n",
       "      <td>0.7198</td>\n",
       "      <td>1.4100</td>\n",
       "    </tr>\n",
       "    <tr>\n",
       "      <th>8</th>\n",
       "      <td>0.3</td>\n",
       "      <td>0.00</td>\n",
       "      <td>5.0000</td>\n",
       "      <td>0.6187</td>\n",
       "      <td>0.6561</td>\n",
       "      <td>0.6514</td>\n",
       "      <td>0.7140</td>\n",
       "      <td>1.4027</td>\n",
       "    </tr>\n",
       "    <tr>\n",
       "      <th>9</th>\n",
       "      <td>0.2</td>\n",
       "      <td>0.00</td>\n",
       "      <td>5.0000</td>\n",
       "      <td>0.6194</td>\n",
       "      <td>0.6544</td>\n",
       "      <td>0.6481</td>\n",
       "      <td>0.7133</td>\n",
       "      <td>1.3963</td>\n",
       "    </tr>\n",
       "    <tr>\n",
       "      <th>10</th>\n",
       "      <td>0.1</td>\n",
       "      <td>0.00</td>\n",
       "      <td>5.0000</td>\n",
       "      <td>0.6191</td>\n",
       "      <td>0.6554</td>\n",
       "      <td>0.6430</td>\n",
       "      <td>0.7136</td>\n",
       "      <td>1.3930</td>\n",
       "    </tr>\n",
       "    <tr>\n",
       "      <th>11</th>\n",
       "      <td>0.2</td>\n",
       "      <td>0.05</td>\n",
       "      <td>0.0001</td>\n",
       "      <td>0.6166</td>\n",
       "      <td>0.6583</td>\n",
       "      <td>0.6295</td>\n",
       "      <td>0.7190</td>\n",
       "      <td>1.3901</td>\n",
       "    </tr>\n",
       "    <tr>\n",
       "      <th>12</th>\n",
       "      <td>0.1</td>\n",
       "      <td>0.15</td>\n",
       "      <td>0.0001</td>\n",
       "      <td>0.6232</td>\n",
       "      <td>0.6521</td>\n",
       "      <td>0.6432</td>\n",
       "      <td>0.7091</td>\n",
       "      <td>1.3812</td>\n",
       "    </tr>\n",
       "    <tr>\n",
       "      <th>13</th>\n",
       "      <td>0.3</td>\n",
       "      <td>0.05</td>\n",
       "      <td>0.0001</td>\n",
       "      <td>0.6212</td>\n",
       "      <td>0.6538</td>\n",
       "      <td>0.6360</td>\n",
       "      <td>0.7119</td>\n",
       "      <td>1.3805</td>\n",
       "    </tr>\n",
       "    <tr>\n",
       "      <th>14</th>\n",
       "      <td>0.3</td>\n",
       "      <td>0.10</td>\n",
       "      <td>0.0001</td>\n",
       "      <td>0.6259</td>\n",
       "      <td>0.6476</td>\n",
       "      <td>0.6500</td>\n",
       "      <td>0.7046</td>\n",
       "      <td>1.3763</td>\n",
       "    </tr>\n",
       "    <tr>\n",
       "      <th>15</th>\n",
       "      <td>0.1</td>\n",
       "      <td>0.10</td>\n",
       "      <td>0.0001</td>\n",
       "      <td>0.6241</td>\n",
       "      <td>0.6495</td>\n",
       "      <td>0.6400</td>\n",
       "      <td>0.7073</td>\n",
       "      <td>1.3727</td>\n",
       "    </tr>\n",
       "    <tr>\n",
       "      <th>16</th>\n",
       "      <td>0.2</td>\n",
       "      <td>0.15</td>\n",
       "      <td>0.0001</td>\n",
       "      <td>0.6265</td>\n",
       "      <td>0.6470</td>\n",
       "      <td>0.6182</td>\n",
       "      <td>0.7047</td>\n",
       "      <td>1.3435</td>\n",
       "    </tr>\n",
       "    <tr>\n",
       "      <th>17</th>\n",
       "      <td>0.3</td>\n",
       "      <td>0.15</td>\n",
       "      <td>0.0001</td>\n",
       "      <td>0.6315</td>\n",
       "      <td>0.6420</td>\n",
       "      <td>0.6317</td>\n",
       "      <td>0.6966</td>\n",
       "      <td>1.3389</td>\n",
       "    </tr>\n",
       "    <tr>\n",
       "      <th>18</th>\n",
       "      <td>0.2</td>\n",
       "      <td>0.10</td>\n",
       "      <td>0.0001</td>\n",
       "      <td>0.6288</td>\n",
       "      <td>0.6441</td>\n",
       "      <td>0.6181</td>\n",
       "      <td>0.6994</td>\n",
       "      <td>1.3327</td>\n",
       "    </tr>\n",
       "    <tr>\n",
       "      <th>19</th>\n",
       "      <td>0.1</td>\n",
       "      <td>0.10</td>\n",
       "      <td>5.0000</td>\n",
       "      <td>0.6376</td>\n",
       "      <td>0.6348</td>\n",
       "      <td>0.6197</td>\n",
       "      <td>0.6859</td>\n",
       "      <td>1.3028</td>\n",
       "    </tr>\n",
       "    <tr>\n",
       "      <th>20</th>\n",
       "      <td>0.0</td>\n",
       "      <td>0.15</td>\n",
       "      <td>0.0001</td>\n",
       "      <td>0.6388</td>\n",
       "      <td>0.6282</td>\n",
       "      <td>0.5977</td>\n",
       "      <td>0.6824</td>\n",
       "      <td>1.2696</td>\n",
       "    </tr>\n",
       "    <tr>\n",
       "      <th>21</th>\n",
       "      <td>0.2</td>\n",
       "      <td>0.05</td>\n",
       "      <td>5.0000</td>\n",
       "      <td>0.6474</td>\n",
       "      <td>0.6203</td>\n",
       "      <td>0.6111</td>\n",
       "      <td>0.6696</td>\n",
       "      <td>1.2537</td>\n",
       "    </tr>\n",
       "    <tr>\n",
       "      <th>22</th>\n",
       "      <td>0.0</td>\n",
       "      <td>0.05</td>\n",
       "      <td>5.0000</td>\n",
       "      <td>0.6465</td>\n",
       "      <td>0.6195</td>\n",
       "      <td>0.6055</td>\n",
       "      <td>0.6691</td>\n",
       "      <td>1.2476</td>\n",
       "    </tr>\n",
       "    <tr>\n",
       "      <th>23</th>\n",
       "      <td>0.1</td>\n",
       "      <td>0.05</td>\n",
       "      <td>5.0000</td>\n",
       "      <td>0.6471</td>\n",
       "      <td>0.6182</td>\n",
       "      <td>0.5884</td>\n",
       "      <td>0.6685</td>\n",
       "      <td>1.2280</td>\n",
       "    </tr>\n",
       "    <tr>\n",
       "      <th>24</th>\n",
       "      <td>0.3</td>\n",
       "      <td>0.05</td>\n",
       "      <td>5.0000</td>\n",
       "      <td>0.6493</td>\n",
       "      <td>0.6163</td>\n",
       "      <td>0.5924</td>\n",
       "      <td>0.6649</td>\n",
       "      <td>1.2244</td>\n",
       "    </tr>\n",
       "    <tr>\n",
       "      <th>25</th>\n",
       "      <td>0.0</td>\n",
       "      <td>0.10</td>\n",
       "      <td>5.0000</td>\n",
       "      <td>0.6509</td>\n",
       "      <td>0.6134</td>\n",
       "      <td>0.6009</td>\n",
       "      <td>0.6605</td>\n",
       "      <td>1.2239</td>\n",
       "    </tr>\n",
       "  </tbody>\n",
       "</table>\n",
       "</div>"
      ],
      "text/plain": [
       "    fc_dropout  bb_dropout  learning_rate  log_loss     acc      f1     auc  \\\n",
       "0          0.1        0.00         0.0001    0.6062  0.6678  0.6701  0.7312   \n",
       "1          0.0        0.00         0.0001    0.6025  0.6723  0.6438  0.7370   \n",
       "2          0.2        0.00         0.0001    0.6064  0.6689  0.6476  0.7318   \n",
       "3          0.3        0.00         0.0001    0.6071  0.6681  0.6380  0.7321   \n",
       "4          0.0        0.05         0.0001    0.6131  0.6609  0.6607  0.7219   \n",
       "5          0.0        0.10         0.0001    0.6157  0.6587  0.6615  0.7191   \n",
       "6          0.1        0.05         0.0001    0.6149  0.6607  0.6468  0.7200   \n",
       "7          0.0        0.00         5.0000    0.6144  0.6603  0.6442  0.7198   \n",
       "8          0.3        0.00         5.0000    0.6187  0.6561  0.6514  0.7140   \n",
       "9          0.2        0.00         5.0000    0.6194  0.6544  0.6481  0.7133   \n",
       "10         0.1        0.00         5.0000    0.6191  0.6554  0.6430  0.7136   \n",
       "11         0.2        0.05         0.0001    0.6166  0.6583  0.6295  0.7190   \n",
       "12         0.1        0.15         0.0001    0.6232  0.6521  0.6432  0.7091   \n",
       "13         0.3        0.05         0.0001    0.6212  0.6538  0.6360  0.7119   \n",
       "14         0.3        0.10         0.0001    0.6259  0.6476  0.6500  0.7046   \n",
       "15         0.1        0.10         0.0001    0.6241  0.6495  0.6400  0.7073   \n",
       "16         0.2        0.15         0.0001    0.6265  0.6470  0.6182  0.7047   \n",
       "17         0.3        0.15         0.0001    0.6315  0.6420  0.6317  0.6966   \n",
       "18         0.2        0.10         0.0001    0.6288  0.6441  0.6181  0.6994   \n",
       "19         0.1        0.10         5.0000    0.6376  0.6348  0.6197  0.6859   \n",
       "20         0.0        0.15         0.0001    0.6388  0.6282  0.5977  0.6824   \n",
       "21         0.2        0.05         5.0000    0.6474  0.6203  0.6111  0.6696   \n",
       "22         0.0        0.05         5.0000    0.6465  0.6195  0.6055  0.6691   \n",
       "23         0.1        0.05         5.0000    0.6471  0.6182  0.5884  0.6685   \n",
       "24         0.3        0.05         5.0000    0.6493  0.6163  0.5924  0.6649   \n",
       "25         0.0        0.10         5.0000    0.6509  0.6134  0.6009  0.6605   \n",
       "\n",
       "    total_score  \n",
       "0        1.4628  \n",
       "1        1.4506  \n",
       "2        1.4419  \n",
       "3        1.4311  \n",
       "4        1.4304  \n",
       "5        1.4236  \n",
       "6        1.4126  \n",
       "7        1.4100  \n",
       "8        1.4027  \n",
       "9        1.3963  \n",
       "10       1.3930  \n",
       "11       1.3901  \n",
       "12       1.3812  \n",
       "13       1.3805  \n",
       "14       1.3763  \n",
       "15       1.3727  \n",
       "16       1.3435  \n",
       "17       1.3389  \n",
       "18       1.3327  \n",
       "19       1.3028  \n",
       "20       1.2696  \n",
       "21       1.2537  \n",
       "22       1.2476  \n",
       "23       1.2280  \n",
       "24       1.2244  \n",
       "25       1.2239  "
      ]
     },
     "execution_count": 35,
     "metadata": {},
     "output_type": "execute_result"
    }
   ],
   "source": [
    "pd.set_option(\"display.precision\", 4)\n",
    "df = pd.DataFrame(results)\n",
    "\n",
    "df['total_score'] = df.acc+df.f1+df.auc-df.log_loss\n",
    "\n",
    "df[['fc_dropout', 'bb_dropout', \"learning_rate\"]] = df.apply(lambda x: get_dropout_rates(x['model']), axis=1, result_type=\"expand\")\n",
    "\n",
    "df.sort_values(by='total_score', inplace=True, ascending=False)\n",
    "df = df[['fc_dropout', 'bb_dropout','learning_rate','log_loss', 'acc', 'f1', 'auc', 'total_score']].reset_index(drop=True)\n",
    "\n",
    "df.head(len(df))\n"
   ]
  },
  {
   "cell_type": "code",
   "execution_count": 36,
   "id": "9b85a8da-0ba9-4397-9ed9-f9bbf7233543",
   "metadata": {},
   "outputs": [
    {
     "data": {
      "text/plain": [
       "26"
      ]
     },
     "execution_count": 36,
     "metadata": {},
     "output_type": "execute_result"
    }
   ],
   "source": [
    "df_groupped = df.groupby(['fc_dropout','bb_dropout', 'learning_rate']).mean()\n",
    "df_groupped.sort_values(by='auc', inplace=True, ascending=False)\n",
    "df_groupped['auc_std'] = df.groupby(['fc_dropout','bb_dropout','learning_rate'])['auc'].std()\n",
    "df_groupped['xps'] = df.groupby(['fc_dropout','bb_dropout', 'learning_rate'])['auc'].count()\n",
    "df_groupped = pd.DataFrame(df_groupped.to_records())\n",
    "len(df_groupped)"
   ]
  },
  {
   "cell_type": "code",
   "execution_count": 37,
   "id": "2f8d8a66-c8ae-498f-85d0-dfd9d9fc30a1",
   "metadata": {},
   "outputs": [
    {
     "data": {
      "image/png": "[encoded data removed]",
      "text/plain": [
       "<Figure size 432x288 with 2 Axes>"
      ]
     },
     "metadata": {
      "needs_background": "light"
     },
     "output_type": "display_data"
    }
   ],
   "source": [
    "sns.heatmap(pd.pivot_table(df_groupped[df_groupped['learning_rate']==0.0001], values='auc', columns=['fc_dropout'], index=['bb_dropout']).sort_index(ascending=False), \n",
    "            annot=True, cmap='crest', square=True) #\"flare\"\n",
    "plt.title('Accuracy for different dropout rates')\n",
    "plt.xlabel('Fully connected weight dropout rate')\n",
    "plt.ylabel('Channel dropout rate')\n",
    "plt.savefig('dropout_heatmap.png', dpi=300, bbox_inches = \"tight\")\n",
    "plt.show()"
   ]
  },
  {
   "cell_type": "code",
   "execution_count": 38,
   "id": "d8a68f28-0b78-4ebd-8de8-d37906170445",
   "metadata": {},
   "outputs": [
    {
     "data": {
      "image/png": "[encoded data removed]",
      "text/plain": [
       "<Figure size 432x288 with 2 Axes>"
      ]
     },
     "metadata": {
      "needs_background": "light"
     },
     "output_type": "display_data"
    }
   ],
   "source": [
    "sns.heatmap(pd.pivot_table(df_groupped[df_groupped['learning_rate']==5], values='auc', columns=['fc_dropout'], index=['bb_dropout']).sort_index(ascending=False), \n",
    "            annot=True, cmap='crest', square=True) #\"flare\"\n",
    "plt.title('Accuracy for different dropout rates')\n",
    "plt.xlabel('Fully connected weight dropout rate')\n",
    "plt.ylabel('Channel dropout rate')\n",
    "plt.savefig('dropout_heatmap.png', dpi=300, bbox_inches = \"tight\")\n",
    "plt.show()"
   ]
  },
  {
   "cell_type": "markdown",
   "id": "57e7585f-01a0-421f-9f20-66ba97a9925f",
   "metadata": {},
   "source": [
    "# 2 - MC Dropout\n",
    "\n",
    "With previous winner, implement different dropout rates and forward passes"
   ]
  },
  {
   "cell_type": "code",
   "execution_count": 77,
   "id": "d24fb956-616f-46f3-aaf6-7d8260f83dfc",
   "metadata": {},
   "outputs": [],
   "source": [
    "predictions = np.load('./data/uncertainties/predictions.npy')"
   ]
  },
  {
   "cell_type": "code",
   "execution_count": 78,
   "id": "0df83835-7893-406f-9275-fec9cc8ff8c9",
   "metadata": {},
   "outputs": [
    {
     "data": {
      "text/plain": [
       "array([0, 0, 0, ..., 0, 1, 1])"
      ]
     },
     "execution_count": 78,
     "metadata": {},
     "output_type": "execute_result"
    }
   ],
   "source": [
    "predictions"
   ]
  },
  {
   "cell_type": "code",
   "execution_count": 79,
   "id": "3bd82d6c-3037-4f33-8a34-696b0a9659b4",
   "metadata": {},
   "outputs": [],
   "source": [
    "#[total_variance, entropy, mutual_info, margin_confidence, variation_ratio]\n",
    "uncertainties = np.load('./data/uncertainties/uncertainties.npy')\n",
    "\n",
    "predictions = np.expand_dims(np.load('./data/uncertainties/predictions.npy'), axis=1)\n",
    "probs = np.expand_dims(np.load('./data/uncertainties/softmax.npy')[:,1], axis=1)\n",
    "\n",
    "uncertainties = np.concatenate((uncertainties,probs,predictions,np.expand_dims(labels, axis=1)),axis=1)"
   ]
  },
  {
   "cell_type": "code",
   "execution_count": 80,
   "id": "44f6bef8-6cf4-4d7f-9ebc-63f364b44d63",
   "metadata": {},
   "outputs": [],
   "source": [
    "uncertainties_df = pd.DataFrame(\n",
    "    uncertainties, columns=['total_variance', 'entropy', 'mutual_info', 'margin_confidence', 'variation_ratio', 'probs', 'pred', 'gt'])"
   ]
  },
  {
   "cell_type": "code",
   "execution_count": 89,
   "id": "81c39408-5970-4348-a49c-2b0acce66a44",
   "metadata": {},
   "outputs": [],
   "source": [
    "uncertainties_df['pred'] = uncertainties_df['pred'].astype(int)\n",
    "uncertainties_df['gt'] = uncertainties_df['gt'].astype(int)\n",
    "\n",
    "# normalize entropy\n",
    "uncertainties_df['entropy'] = uncertainties_df['entropy']/np.log(2)\n",
    "\n",
    "uncertainties_df['correct_pred'] = np.where(uncertainties_df['pred'] == uncertainties_df['gt'], 1, 0)"
   ]
  },
  {
   "cell_type": "code",
   "execution_count": 90,
   "id": "914c81bc-f259-4a56-8b9b-14d5be198b40",
   "metadata": {},
   "outputs": [
    {
     "data": {
      "text/html": [
       "<div>\n",
       "<style scoped>\n",
       "    .dataframe tbody tr th:only-of-type {\n",
       "        vertical-align: middle;\n",
       "    }\n",
       "\n",
       "    .dataframe tbody tr th {\n",
       "        vertical-align: top;\n",
       "    }\n",
       "\n",
       "    .dataframe thead th {\n",
       "        text-align: right;\n",
       "    }\n",
       "</style>\n",
       "<table border=\"1\" class=\"dataframe\">\n",
       "  <thead>\n",
       "    <tr style=\"text-align: right;\">\n",
       "      <th></th>\n",
       "      <th>total_variance</th>\n",
       "      <th>entropy</th>\n",
       "      <th>mutual_info</th>\n",
       "      <th>margin_confidence</th>\n",
       "      <th>variation_ratio</th>\n",
       "      <th>probs</th>\n",
       "      <th>pred</th>\n",
       "      <th>gt</th>\n",
       "      <th>correct_pred</th>\n",
       "    </tr>\n",
       "  </thead>\n",
       "  <tbody>\n",
       "    <tr>\n",
       "      <th>0</th>\n",
       "      <td>0.0899</td>\n",
       "      <td>0.8819</td>\n",
       "      <td>0.0181</td>\n",
       "      <td>0.4051</td>\n",
       "      <td>0.0392</td>\n",
       "      <td>0.3005</td>\n",
       "      <td>0</td>\n",
       "      <td>0</td>\n",
       "      <td>1</td>\n",
       "    </tr>\n",
       "    <tr>\n",
       "      <th>1</th>\n",
       "      <td>0.1255</td>\n",
       "      <td>0.6920</td>\n",
       "      <td>0.0471</td>\n",
       "      <td>0.6329</td>\n",
       "      <td>0.0196</td>\n",
       "      <td>0.1855</td>\n",
       "      <td>0</td>\n",
       "      <td>0</td>\n",
       "      <td>1</td>\n",
       "    </tr>\n",
       "    <tr>\n",
       "      <th>2</th>\n",
       "      <td>0.0922</td>\n",
       "      <td>0.5684</td>\n",
       "      <td>0.0323</td>\n",
       "      <td>0.7319</td>\n",
       "      <td>0.0000</td>\n",
       "      <td>0.1340</td>\n",
       "      <td>0</td>\n",
       "      <td>0</td>\n",
       "      <td>1</td>\n",
       "    </tr>\n",
       "    <tr>\n",
       "      <th>3</th>\n",
       "      <td>0.0308</td>\n",
       "      <td>0.9447</td>\n",
       "      <td>0.0020</td>\n",
       "      <td>0.2752</td>\n",
       "      <td>0.0000</td>\n",
       "      <td>0.6376</td>\n",
       "      <td>1</td>\n",
       "      <td>0</td>\n",
       "      <td>0</td>\n",
       "    </tr>\n",
       "    <tr>\n",
       "      <th>4</th>\n",
       "      <td>0.0735</td>\n",
       "      <td>0.8946</td>\n",
       "      <td>0.0122</td>\n",
       "      <td>0.3776</td>\n",
       "      <td>0.0000</td>\n",
       "      <td>0.3112</td>\n",
       "      <td>0</td>\n",
       "      <td>0</td>\n",
       "      <td>1</td>\n",
       "    </tr>\n",
       "    <tr>\n",
       "      <th>...</th>\n",
       "      <td>...</td>\n",
       "      <td>...</td>\n",
       "      <td>...</td>\n",
       "      <td>...</td>\n",
       "      <td>...</td>\n",
       "      <td>...</td>\n",
       "      <td>...</td>\n",
       "      <td>...</td>\n",
       "      <td>...</td>\n",
       "    </tr>\n",
       "    <tr>\n",
       "      <th>295151</th>\n",
       "      <td>0.0297</td>\n",
       "      <td>0.9482</td>\n",
       "      <td>0.0018</td>\n",
       "      <td>0.2665</td>\n",
       "      <td>0.0000</td>\n",
       "      <td>0.6332</td>\n",
       "      <td>1</td>\n",
       "      <td>1</td>\n",
       "      <td>1</td>\n",
       "    </tr>\n",
       "    <tr>\n",
       "      <th>295152</th>\n",
       "      <td>0.0150</td>\n",
       "      <td>0.9952</td>\n",
       "      <td>0.0004</td>\n",
       "      <td>0.0817</td>\n",
       "      <td>0.0000</td>\n",
       "      <td>0.5409</td>\n",
       "      <td>1</td>\n",
       "      <td>1</td>\n",
       "      <td>1</td>\n",
       "    </tr>\n",
       "    <tr>\n",
       "      <th>295153</th>\n",
       "      <td>0.0407</td>\n",
       "      <td>0.9802</td>\n",
       "      <td>0.0033</td>\n",
       "      <td>0.1676</td>\n",
       "      <td>0.0196</td>\n",
       "      <td>0.4174</td>\n",
       "      <td>0</td>\n",
       "      <td>1</td>\n",
       "      <td>0</td>\n",
       "    </tr>\n",
       "    <tr>\n",
       "      <th>295154</th>\n",
       "      <td>0.0251</td>\n",
       "      <td>0.9548</td>\n",
       "      <td>0.0013</td>\n",
       "      <td>0.2489</td>\n",
       "      <td>0.0000</td>\n",
       "      <td>0.6245</td>\n",
       "      <td>1</td>\n",
       "      <td>1</td>\n",
       "      <td>1</td>\n",
       "    </tr>\n",
       "    <tr>\n",
       "      <th>295155</th>\n",
       "      <td>0.0628</td>\n",
       "      <td>0.6387</td>\n",
       "      <td>0.0136</td>\n",
       "      <td>0.6763</td>\n",
       "      <td>0.0000</td>\n",
       "      <td>0.8381</td>\n",
       "      <td>1</td>\n",
       "      <td>1</td>\n",
       "      <td>1</td>\n",
       "    </tr>\n",
       "  </tbody>\n",
       "</table>\n",
       "<p>295156 rows × 9 columns</p>\n",
       "</div>"
      ],
      "text/plain": [
       "        total_variance  entropy  mutual_info  margin_confidence  \\\n",
       "0               0.0899   0.8819       0.0181             0.4051   \n",
       "1               0.1255   0.6920       0.0471             0.6329   \n",
       "2               0.0922   0.5684       0.0323             0.7319   \n",
       "3               0.0308   0.9447       0.0020             0.2752   \n",
       "4               0.0735   0.8946       0.0122             0.3776   \n",
       "...                ...      ...          ...                ...   \n",
       "295151          0.0297   0.9482       0.0018             0.2665   \n",
       "295152          0.0150   0.9952       0.0004             0.0817   \n",
       "295153          0.0407   0.9802       0.0033             0.1676   \n",
       "295154          0.0251   0.9548       0.0013             0.2489   \n",
       "295155          0.0628   0.6387       0.0136             0.6763   \n",
       "\n",
       "        variation_ratio   probs  pred  gt  correct_pred  \n",
       "0                0.0392  0.3005     0   0             1  \n",
       "1                0.0196  0.1855     0   0             1  \n",
       "2                0.0000  0.1340     0   0             1  \n",
       "3                0.0000  0.6376     1   0             0  \n",
       "4                0.0000  0.3112     0   0             1  \n",
       "...                 ...     ...   ...  ..           ...  \n",
       "295151           0.0000  0.6332     1   1             1  \n",
       "295152           0.0000  0.5409     1   1             1  \n",
       "295153           0.0196  0.4174     0   1             0  \n",
       "295154           0.0000  0.6245     1   1             1  \n",
       "295155           0.0000  0.8381     1   1             1  \n",
       "\n",
       "[295156 rows x 9 columns]"
      ]
     },
     "execution_count": 90,
     "metadata": {},
     "output_type": "execute_result"
    }
   ],
   "source": [
    "uncertainties_df"
   ]
  },
  {
   "cell_type": "code",
   "execution_count": 91,
   "id": "92dcc995-19b0-4100-9eeb-59ec905c4582",
   "metadata": {},
   "outputs": [],
   "source": [
    "def bhattacharyya_d(a: dict, b: dict) -> float:\n",
    "    \"\"\"Determine the Bhattacharyya distance beetween the given dictionaries.\n",
    "    Parameters\n",
    "    ----------------------------\n",
    "    a: dict,\n",
    "        First dictionary to consider.\n",
    "    b: dict,\n",
    "        Second dictionary to consider.\n",
    "    Returns\n",
    "    ----------------------------\n",
    "    Return the Bhattacharyya distance beetween the given dictionaries.\n",
    "    \"\"\"\n",
    "    if len(a) > len(b):\n",
    "        big = a\n",
    "        small = b\n",
    "    else:\n",
    "        big = b\n",
    "        small= a\n",
    "    \n",
    "    total = 0\n",
    "    for k in small.keys():\n",
    "        total += np.sqrt(big[k] * small[k])\n",
    "    \n",
    "    distance = -np.log(total)\n",
    "    if np.isinf(distance):\n",
    "        return 0\n",
    "    \n",
    "    return distance"
   ]
  },
  {
   "cell_type": "code",
   "execution_count": 96,
   "id": "ca7b7a89-c234-40df-b076-ecb6d3c6be2a",
   "metadata": {},
   "outputs": [
    {
     "name": "stdout",
     "output_type": "stream",
     "text": [
      "Bhattacharyya distance: 0.3615\n"
     ]
    },
    {
     "data": {
      "image/png": "[encoded data removed]",
      "text/plain": [
       "<Figure size 432x288 with 1 Axes>"
      ]
     },
     "metadata": {
      "needs_background": "light"
     },
     "output_type": "display_data"
    },
    {
     "name": "stdout",
     "output_type": "stream",
     "text": [
      "Bhattacharyya distance: 0.3485\n"
     ]
    },
    {
     "data": {
      "image/png": "[encoded data removed]",
      "text/plain": [
       "<Figure size 432x288 with 1 Axes>"
      ]
     },
     "metadata": {
      "needs_background": "light"
     },
     "output_type": "display_data"
    },
    {
     "name": "stdout",
     "output_type": "stream",
     "text": [
      "Bhattacharyya distance: 0.2700\n"
     ]
    },
    {
     "data": {
      "image/png": "[encoded data removed]",
      "text/plain": [
       "<Figure size 432x288 with 1 Axes>"
      ]
     },
     "metadata": {
      "needs_background": "light"
     },
     "output_type": "display_data"
    },
    {
     "name": "stdout",
     "output_type": "stream",
     "text": [
      "Bhattacharyya distance: 0.3617\n"
     ]
    },
    {
     "data": {
      "image/png": "[encoded data removed]",
      "text/plain": [
       "<Figure size 432x288 with 1 Axes>"
      ]
     },
     "metadata": {
      "needs_background": "light"
     },
     "output_type": "display_data"
    },
    {
     "name": "stdout",
     "output_type": "stream",
     "text": [
      "Bhattacharyya distance: 0.0135\n"
     ]
    },
    {
     "data": {
      "image/png": "[encoded data removed]",
      "text/plain": [
       "<Figure size 432x288 with 1 Axes>"
      ]
     },
     "metadata": {
      "needs_background": "light"
     },
     "output_type": "display_data"
    }
   ],
   "source": [
    "\n",
    "unc_measures = ['total_variance', 'entropy', 'mutual_info', 'margin_confidence', 'variation_ratio']\n",
    "for measure in unc_measures:\n",
    "    \n",
    "    correct = uncertainties_df[uncertainties_df['correct_pred'] == 1][measure]\n",
    "    incorrect = uncertainties_df[uncertainties_df['correct_pred'] == 0][measure]\n",
    "    \n",
    "    correct_pmf = correct.value_counts(normalize=True)\n",
    "    incorrect_pmf = incorrect.value_counts(normalize=True)\n",
    "    \n",
    "    print('Bhattacharyya distance: %1.4f' % bhattacharyya_d(correct_pmf.reset_index(drop=True).to_dict(),incorrect_pmf.reset_index(drop=True).to_dict()))\n",
    "\n",
    "    plt.hist(incorrect.values, bins=40, alpha=0.4, label='incorrect', color='r', density=1)\n",
    "    plt.hist(correct.values, bins=40, alpha=0.5, label='correct', color='g', density=1)\n",
    "    \n",
    "    plt.legend(loc='upper right')\n",
    "    plt.title(measure)\n",
    "    #plt.xlim(0,1)\n",
    "    #plt.ylim(0,1)\n",
    "    plt.tight_layout(pad=0.4, w_pad=0.5, h_pad=1.0)\n",
    "    plt.show()"
   ]
  },
  {
   "cell_type": "code",
   "execution_count": null,
   "id": "95cf6f48-af81-4c84-ac8c-c50258615031",
   "metadata": {},
   "outputs": [],
   "source": []
  }
 ],
 "metadata": {
  "kernelspec": {
   "display_name": "Python 3",
   "language": "python",
   "name": "python3"
  },
  "language_info": {
   "codemirror_mode": {
    "name": "ipython",
    "version": 3
   },
   "file_extension": ".py",
   "mimetype": "text/x-python",
   "name": "python",
   "nbconvert_exporter": "python",
   "pygments_lexer": "ipython3",
   "version": "3.8.8"
  }
 },
 "nbformat": 4,
 "nbformat_minor": 5
}
