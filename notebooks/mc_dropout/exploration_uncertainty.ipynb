{
 "cells": [
  {
   "cell_type": "markdown",
   "id": "5a5b3bcc-9a83-4326-8d24-8888dc39efff",
   "metadata": {},
   "source": [
    "# WatChMaL: MC Dropout Experiments\n",
    "### Iñaki Erregue Álvarez-Buhilla"
   ]
  },
  {
   "cell_type": "code",
   "execution_count": 1,
   "id": "5443254b-7752-49cf-893c-fd55560be721",
   "metadata": {},
   "outputs": [],
   "source": [
    "import os\n",
    "import sys\n",
    "module_path = os.path.abspath(os.path.join('..'))\n",
    "if module_path not in sys.path:\n",
    "    sys.path.append(module_path)"
   ]
  },
  {
   "cell_type": "code",
   "execution_count": 2,
   "id": "9e8dfe71-f5c1-4f8e-8e99-8c5f4811ba71",
   "metadata": {},
   "outputs": [],
   "source": [
    "import numpy as np\n",
    "import pandas as pd\n",
    "import matplotlib.pyplot as plt\n",
    "from sklearn.metrics import *\n",
    "from utils.utils import *"
   ]
  },
  {
   "cell_type": "code",
   "execution_count": 8,
   "id": "fef7bc00-f3fd-432b-b03b-ef369b166b74",
   "metadata": {},
   "outputs": [],
   "source": [
    "base_path = './data/'\n",
    "\n",
    "labels = np.load(base_path+'/labels.npy')\n",
    "test_idxs = np.load(base_path+'/indices.npy')\n",
    "split_idxs = np.load(base_path+'/IWCD_mPMT_Short_2_class_idxs_xps.npz')"
   ]
  },
  {
   "cell_type": "markdown",
   "id": "40a03f10-00dd-4854-ab84-f37d3aea2e7e",
   "metadata": {},
   "source": [
    "# 1 - Dropout in Training \n",
    "\n",
    "Normal, FC, All, for different dropout rates"
   ]
  },
  {
   "cell_type": "code",
   "execution_count": 3,
   "id": "0b92241b-c6d6-4e6e-9c91-a69911be3a25",
   "metadata": {},
   "outputs": [],
   "source": [
    "\n",
    "\n",
    "#modes = ['nd', 'dfc', 'dcnn', 'd', 'mcd']\n",
    "modes = ['101', '101mc01', '101mc02', '101mcfc02']"
   ]
  },
  {
   "cell_type": "code",
   "execution_count": 4,
   "id": "d40b81ba-a831-4acc-87e9-4ccb494c4c4f",
   "metadata": {},
   "outputs": [
    {
     "name": "stdout",
     "output_type": "stream",
     "text": [
      "Total num. of events:  2950284\n",
      "Events for testing: 10.004\n",
      "Events for validation: 2.399\n",
      "Events for training: 87.596\n"
     ]
    }
   ],
   "source": [
    "data_splitting(split_idxs)"
   ]
  },
  {
   "cell_type": "code",
   "execution_count": 6,
   "id": "782d7952-18d4-44b9-8d6d-cf70166e7081",
   "metadata": {},
   "outputs": [],
   "source": [
    "results = []\n",
    "for mode in modes:\n",
    "    results.append(basic_metrics(base_path, labels, mode))"
   ]
  },
  {
   "cell_type": "code",
   "execution_count": 7,
   "id": "df500cbd-f43d-4f08-9eb5-1c65d790dea9",
   "metadata": {},
   "outputs": [
    {
     "data": {
      "text/html": [
       "<div>\n",
       "<style scoped>\n",
       "    .dataframe tbody tr th:only-of-type {\n",
       "        vertical-align: middle;\n",
       "    }\n",
       "\n",
       "    .dataframe tbody tr th {\n",
       "        vertical-align: top;\n",
       "    }\n",
       "\n",
       "    .dataframe thead th {\n",
       "        text-align: right;\n",
       "    }\n",
       "</style>\n",
       "<table border=\"1\" class=\"dataframe\">\n",
       "  <thead>\n",
       "    <tr style=\"text-align: right;\">\n",
       "      <th></th>\n",
       "      <th>model</th>\n",
       "      <th>charge</th>\n",
       "      <th>time</th>\n",
       "      <th>scaled</th>\n",
       "      <th>collapsed</th>\n",
       "      <th>log_loss</th>\n",
       "      <th>acc</th>\n",
       "      <th>f1</th>\n",
       "      <th>auc</th>\n",
       "      <th>opt_threshold</th>\n",
       "      <th>total_score</th>\n",
       "    </tr>\n",
       "  </thead>\n",
       "  <tbody>\n",
       "    <tr>\n",
       "      <th>0</th>\n",
       "      <td>101</td>\n",
       "      <td>0</td>\n",
       "      <td>0</td>\n",
       "      <td>1</td>\n",
       "      <td>0</td>\n",
       "      <td>0.6104</td>\n",
       "      <td>0.6646</td>\n",
       "      <td>0.6543</td>\n",
       "      <td>0.7252</td>\n",
       "      <td>0.5090</td>\n",
       "      <td>1.4337</td>\n",
       "    </tr>\n",
       "    <tr>\n",
       "      <th>1</th>\n",
       "      <td>101mcfc02</td>\n",
       "      <td>0</td>\n",
       "      <td>0</td>\n",
       "      <td>1</td>\n",
       "      <td>0</td>\n",
       "      <td>0.6129</td>\n",
       "      <td>0.6643</td>\n",
       "      <td>0.6568</td>\n",
       "      <td>0.7231</td>\n",
       "      <td>0.5096</td>\n",
       "      <td>1.4314</td>\n",
       "    </tr>\n",
       "    <tr>\n",
       "      <th>2</th>\n",
       "      <td>101mc01</td>\n",
       "      <td>0</td>\n",
       "      <td>0</td>\n",
       "      <td>1</td>\n",
       "      <td>0</td>\n",
       "      <td>0.7069</td>\n",
       "      <td>0.5177</td>\n",
       "      <td>0.5800</td>\n",
       "      <td>0.5267</td>\n",
       "      <td>0.5259</td>\n",
       "      <td>0.9176</td>\n",
       "    </tr>\n",
       "    <tr>\n",
       "      <th>3</th>\n",
       "      <td>101mc02</td>\n",
       "      <td>0</td>\n",
       "      <td>0</td>\n",
       "      <td>1</td>\n",
       "      <td>0</td>\n",
       "      <td>0.7588</td>\n",
       "      <td>0.4984</td>\n",
       "      <td>0.6417</td>\n",
       "      <td>0.4936</td>\n",
       "      <td>0.4363</td>\n",
       "      <td>0.8750</td>\n",
       "    </tr>\n",
       "  </tbody>\n",
       "</table>\n",
       "</div>"
      ],
      "text/plain": [
       "       model  charge  time  scaled  collapsed  log_loss     acc      f1  \\\n",
       "0        101       0     0       1          0    0.6104  0.6646  0.6543   \n",
       "1  101mcfc02       0     0       1          0    0.6129  0.6643  0.6568   \n",
       "2    101mc01       0     0       1          0    0.7069  0.5177  0.5800   \n",
       "3    101mc02       0     0       1          0    0.7588  0.4984  0.6417   \n",
       "\n",
       "      auc  opt_threshold  total_score  \n",
       "0  0.7252         0.5090       1.4337  \n",
       "1  0.7231         0.5096       1.4314  \n",
       "2  0.5267         0.5259       0.9176  \n",
       "3  0.4936         0.4363       0.8750  "
      ]
     },
     "execution_count": 7,
     "metadata": {},
     "output_type": "execute_result"
    }
   ],
   "source": [
    "pd.set_option(\"display.precision\", 4)\n",
    "df = pd.DataFrame(results)\n",
    "\n",
    "df['charge'] = np.where(df['model'].str.contains('Q'), 1, 0)\n",
    "df['time'] = np.where(df['model'].str.contains('T'), 1, 0)\n",
    "df['scaled'] = np.where(df['model'].str.contains('u'), 0, 1)\n",
    "df['collapsed'] = np.where(df['model'].str.contains('s'), 1, 0)\n",
    "\n",
    "df['total_score'] = df.acc+df.f1+df.auc-df.log_loss\n",
    "\n",
    "df.sort_values(by='total_score', inplace=True, ascending=False)\n",
    "df = df[['model','charge', 'time', 'scaled', 'collapsed', 'log_loss', 'acc', 'f1', 'auc', 'opt_threshold', 'total_score']].reset_index(drop=True)\n",
    "\n",
    "df.head(len(modes))"
   ]
  },
  {
   "cell_type": "markdown",
   "id": "57e7585f-01a0-421f-9f20-66ba97a9925f",
   "metadata": {},
   "source": [
    "# 2 - MC Dropout\n",
    "\n",
    "With previous winner, implement different dropout rates and forward passes"
   ]
  },
  {
   "cell_type": "code",
   "execution_count": null,
   "id": "3bd82d6c-3037-4f33-8a34-696b0a9659b4",
   "metadata": {},
   "outputs": [],
   "source": []
  }
 ],
 "metadata": {
  "kernelspec": {
   "display_name": "Python 3",
   "language": "python",
   "name": "python3"
  },
  "language_info": {
   "codemirror_mode": {
    "name": "ipython",
    "version": 3
   },
   "file_extension": ".py",
   "mimetype": "text/x-python",
   "name": "python",
   "nbconvert_exporter": "python",
   "pygments_lexer": "ipython3",
   "version": "3.8.8"
  }
 },
 "nbformat": 4,
 "nbformat_minor": 5
}
